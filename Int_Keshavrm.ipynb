{
 "cells": [
  {
   "cell_type": "code",
   "execution_count": 2,
   "id": "2732d15f",
   "metadata": {},
   "outputs": [
    {
     "name": "stdout",
     "output_type": "stream",
     "text": [
      "<class 'int'>\n",
      "140736130459792\n",
      "140736130459792\n"
     ]
    }
   ],
   "source": [
    "#QC1 type and id\n",
    "variable = 12 \n",
    "print(type(variable))\n",
    "print (id(variable))\n"
   ]
  },
  {
   "cell_type": "code",
   "execution_count": 13,
   "id": "f471c175",
   "metadata": {},
   "outputs": [
    {
     "name": "stdout",
     "output_type": "stream",
     "text": [
      "140723325381040\n",
      "140723325381040\n"
     ]
    }
   ],
   "source": [
    "#QC2 id check \n",
    "variable1 = 21\n",
    "variable2 = 21\n",
    "print(id(variable1))\n",
    "print(id(variable2))"
   ]
  },
  {
   "cell_type": "code",
   "execution_count": 21,
   "id": "1960bb49",
   "metadata": {},
   "outputs": [
    {
     "name": "stdout",
     "output_type": "stream",
     "text": [
      "2717125150832\n",
      "2717125151696\n"
     ]
    }
   ],
   "source": [
    "#QC3 id check \n",
    "idcheck = 257\n",
    "idcheck1 = 257\n",
    "print(id(idcheck))\n",
    "print(id(idcheck1))"
   ]
  },
  {
   "cell_type": "code",
   "execution_count": 10,
   "id": "8c280097",
   "metadata": {},
   "outputs": [
    {
     "name": "stdout",
     "output_type": "stream",
     "text": [
      "55\n",
      "-9\n",
      "736\n",
      "0.71875\n",
      "23\n",
      "0\n",
      "37608910510519071039902074217516707306379521\n"
     ]
    }
   ],
   "source": [
    "#QC4 arithmetic operations \n",
    "sum1 = 23\n",
    "sum2 = 32\n",
    "print(sum1+sum2)\n",
    "print(sum1-sum2)\n",
    "print(sum1*sum2)\n",
    "print(sum1/sum2)\n",
    "print(sum1%sum2)\n",
    "print(sum1//sum2)\n",
    "print(sum1**sum2)\n",
    "\n",
    "\n"
   ]
  },
  {
   "cell_type": "code",
   "execution_count": 12,
   "id": "833add93",
   "metadata": {},
   "outputs": [
    {
     "name": "stdout",
     "output_type": "stream",
     "text": [
      "False\n",
      "True\n",
      "False\n",
      "True\n",
      "False\n",
      "True\n"
     ]
    }
   ],
   "source": [
    "#QC5 Comparison Operators\n",
    "int1 = 240\n",
    "int2 = 560\n",
    "print(int1>int2)\n",
    "print(int1<int2)\n",
    "print(int1>=int2)\n",
    "print(int1<=int2)\n",
    "\n"
   ]
  },
  {
   "cell_type": "code",
   "execution_count": 3,
   "id": "6528ccdf",
   "metadata": {},
   "outputs": [
    {
     "name": "stdout",
     "output_type": "stream",
     "text": [
      "False\n",
      "True\n"
     ]
    }
   ],
   "source": [
    "#QC6 Equality Operator\n",
    "equl1 = 211\n",
    "equl2 = 112\n",
    "print(equl1==equl2)\n",
    "print(equl1!=equl2)\n"
   ]
  },
  {
   "cell_type": "code",
   "execution_count": 16,
   "id": "6a2f3aa8",
   "metadata": {},
   "outputs": [
    {
     "name": "stdout",
     "output_type": "stream",
     "text": [
      "20\n",
      "False\n",
      "True\n"
     ]
    }
   ],
   "source": [
    "#QC7 Logical operators\n",
    "\n",
    "a=10 \n",
    "b=20\n",
    "print(10 and 20)\n",
    "print (a < 10 and b < 30)\n",
    "print (a<20 and b<40)"
   ]
  },
  {
   "cell_type": "code",
   "execution_count": 5,
   "id": "928e4de1",
   "metadata": {},
   "outputs": [
    {
     "name": "stdout",
     "output_type": "stream",
     "text": [
      "0\n"
     ]
    }
   ],
   "source": [
    "print(0 and 20)"
   ]
  },
  {
   "cell_type": "code",
   "execution_count": 6,
   "id": "42b63a8a",
   "metadata": {},
   "outputs": [
    {
     "name": "stdout",
     "output_type": "stream",
     "text": [
      "0\n"
     ]
    }
   ],
   "source": [
    "print(20 and 0)"
   ]
  },
  {
   "cell_type": "code",
   "execution_count": 7,
   "id": "54e1245b",
   "metadata": {},
   "outputs": [
    {
     "name": "stdout",
     "output_type": "stream",
     "text": [
      "0\n"
     ]
    }
   ],
   "source": [
    "print(0 and 0)"
   ]
  },
  {
   "cell_type": "code",
   "execution_count": 8,
   "id": "c6bf8419",
   "metadata": {},
   "outputs": [
    {
     "name": "stdout",
     "output_type": "stream",
     "text": [
      "10\n"
     ]
    }
   ],
   "source": [
    "print(10 or 20)"
   ]
  },
  {
   "cell_type": "code",
   "execution_count": 1,
   "id": "07256a3b",
   "metadata": {},
   "outputs": [
    {
     "name": "stdout",
     "output_type": "stream",
     "text": [
      "20\n"
     ]
    }
   ],
   "source": [
    "print(0 or 20)"
   ]
  },
  {
   "cell_type": "code",
   "execution_count": 2,
   "id": "7347edfc",
   "metadata": {},
   "outputs": [
    {
     "name": "stdout",
     "output_type": "stream",
     "text": [
      "20\n"
     ]
    }
   ],
   "source": [
    "print(20 or 0)"
   ]
  },
  {
   "cell_type": "code",
   "execution_count": 3,
   "id": "d368c4d7",
   "metadata": {},
   "outputs": [
    {
     "name": "stdout",
     "output_type": "stream",
     "text": [
      "0\n"
     ]
    }
   ],
   "source": [
    "print(0 or 0)"
   ]
  },
  {
   "cell_type": "code",
   "execution_count": 7,
   "id": "6e91ee8e",
   "metadata": {},
   "outputs": [
    {
     "name": "stdout",
     "output_type": "stream",
     "text": [
      "False\n"
     ]
    }
   ],
   "source": [
    "print (not 10)"
   ]
  },
  {
   "cell_type": "code",
   "execution_count": 8,
   "id": "30373254",
   "metadata": {},
   "outputs": [
    {
     "name": "stdout",
     "output_type": "stream",
     "text": [
      "True\n"
     ]
    }
   ],
   "source": [
    "print (not 0)"
   ]
  },
  {
   "cell_type": "code",
   "execution_count": 9,
   "id": "89cf3dde",
   "metadata": {},
   "outputs": [
    {
     "name": "stdout",
     "output_type": "stream",
     "text": [
      "0\n"
     ]
    }
   ],
   "source": [
    "#QC8 bitwise operators\n",
    "print (10 & 20)"
   ]
  },
  {
   "cell_type": "code",
   "execution_count": 11,
   "id": "d3f85331",
   "metadata": {},
   "outputs": [
    {
     "name": "stdout",
     "output_type": "stream",
     "text": [
      "30\n"
     ]
    }
   ],
   "source": [
    "print (10 | 20)"
   ]
  },
  {
   "cell_type": "code",
   "execution_count": 12,
   "id": "2c39c0c7",
   "metadata": {},
   "outputs": [
    {
     "name": "stdout",
     "output_type": "stream",
     "text": [
      "30\n"
     ]
    }
   ],
   "source": [
    "print (10 ^ 20)"
   ]
  },
  {
   "cell_type": "code",
   "execution_count": 13,
   "id": "895214fc",
   "metadata": {},
   "outputs": [
    {
     "name": "stdout",
     "output_type": "stream",
     "text": [
      "-11\n"
     ]
    }
   ],
   "source": [
    "print (~10)"
   ]
  },
  {
   "cell_type": "code",
   "execution_count": 14,
   "id": "93b9578f",
   "metadata": {},
   "outputs": [
    {
     "name": "stdout",
     "output_type": "stream",
     "text": [
      "40\n"
     ]
    }
   ],
   "source": [
    "print (10<<2)"
   ]
  },
  {
   "cell_type": "code",
   "execution_count": 15,
   "id": "e0f493d0",
   "metadata": {},
   "outputs": [
    {
     "name": "stdout",
     "output_type": "stream",
     "text": [
      "2\n"
     ]
    }
   ],
   "source": [
    "print(10>>2)"
   ]
  },
  {
   "cell_type": "code",
   "execution_count": 18,
   "id": "a7e9531f",
   "metadata": {},
   "outputs": [
    {
     "name": "stdout",
     "output_type": "stream",
     "text": [
      "True\n",
      "False\n"
     ]
    }
   ],
   "source": [
    "#QC9 expression inside print statement\n",
    "\n",
    "a = 10\n",
    "b = 10\n",
    "print (a is b)\n",
    "print (a is not b)\n"
   ]
  },
  {
   "cell_type": "code",
   "execution_count": 19,
   "id": "a05db5f3",
   "metadata": {},
   "outputs": [
    {
     "name": "stdout",
     "output_type": "stream",
     "text": [
      "20\n"
     ]
    }
   ],
   "source": [
    "#QC10\n",
    "print(10+(10*32)//2**5&20+(~(-10))<<2)"
   ]
  },
  {
   "cell_type": "code",
   "execution_count": 22,
   "id": "3992f444",
   "metadata": {},
   "outputs": [
    {
     "name": "stdout",
     "output_type": "stream",
     "text": [
      "True\n",
      "True\n",
      "True\n",
      "True\n",
      "True\n",
      "True\n"
     ]
    }
   ],
   "source": [
    "#QC11 Membership operation\n",
    "print('2' in 'Python2.7.8')\n",
    "\n",
    "print(10 in [10,10.20,10+20j,'Python'])\n",
    "\n",
    "print(10 in (10,10.20,10+20j,'Python'))\n",
    "\n",
    "print(2 in {1,2,3})\n",
    "\n",
    "print(3 in {1:100, 2:200, 3:300})\n",
    "\n",
    "print(10 in range(20))"
   ]
  },
  {
   "cell_type": "code",
   "execution_count": 16,
   "id": "16619965",
   "metadata": {},
   "outputs": [
    {
     "name": "stdout",
     "output_type": "stream",
     "text": [
      "0b10011010010100\n",
      "0o23224\n",
      "0x2694\n"
     ]
    }
   ],
   "source": [
    "#QC12\n",
    "\n",
    "a = 0b1111110001000 # binary value\n",
    "\n",
    "b = 0o104132 # octa value\n",
    "\n",
    "c = 0x166f5 # hex value\n",
    "\n",
    "print (bin (9876))\n",
    "\n",
    "print (oct (9876))\n",
    "\n",
    "print (hex (9876))\n",
    "\n"
   ]
  },
  {
   "cell_type": "code",
   "execution_count": 39,
   "id": "85fa680c",
   "metadata": {},
   "outputs": [
    {
     "name": "stdout",
     "output_type": "stream",
     "text": [
      "80\n",
      "3870\n",
      "64222\n",
      "0b1010000\n",
      "0o7436\n",
      "0xfade\n",
      "0b1010000\n",
      "0b1111101011011110\n",
      "0o175336\n",
      "0o7436\n",
      "0x50\n",
      "0xfade\n"
     ]
    }
   ],
   "source": [
    "#QC13\n",
    "\n",
    "\n",
    "a = 0b1010000\n",
    "print(a)\n",
    "\n",
    "b = 0o7436\n",
    "print(b)\n",
    "\n",
    "c = 0xfade\n",
    "print(c)\n",
    "\n",
    "print(bin(80))\n",
    "\n",
    "print(oct(3870))\n",
    "\n",
    "print(hex(64222))\n",
    "\n",
    "print(bin(0b1010000))\n",
    "\n",
    "print(bin(0xfade))\n",
    "\n",
    "print(oct(0xfade))\n",
    "\n",
    "print(oct(0o7436))\n",
    "\n",
    "print(hex(0b1010000))\n",
    "\n",
    "print(hex(0xfade))\n",
    "\n",
    "\n",
    "\n",
    "\n",
    "\n",
    "\n",
    "\n",
    "\n",
    "\n",
    "\n",
    "\n",
    "\n",
    "\n",
    "\n",
    "\n",
    "\n"
   ]
  },
  {
   "cell_type": "code",
   "execution_count": null,
   "id": "3b251f1a",
   "metadata": {},
   "outputs": [],
   "source": []
  }
 ],
 "metadata": {
  "kernelspec": {
   "display_name": "Python 3",
   "language": "python",
   "name": "python3"
  },
  "language_info": {
   "codemirror_mode": {
    "name": "ipython",
    "version": 3
   },
   "file_extension": ".py",
   "mimetype": "text/x-python",
   "name": "python",
   "nbconvert_exporter": "python",
   "pygments_lexer": "ipython3",
   "version": "3.8.8"
  }
 },
 "nbformat": 4,
 "nbformat_minor": 5
}
