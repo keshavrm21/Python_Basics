{
 "cells": [
  {
   "cell_type": "code",
   "execution_count": 2,
   "id": "8fa7e1e2",
   "metadata": {},
   "outputs": [
    {
     "name": "stdout",
     "output_type": "stream",
     "text": [
      "<class 'float'>\n",
      "3158712790864\n"
     ]
    }
   ],
   "source": [
    "#QC1  Declare a float value & Check the type and print the id\n",
    "\n",
    "floatvalue = 99.9\n",
    "print (type (floatvalue))\n",
    "print(id (floatvalue))"
   ]
  },
  {
   "cell_type": "code",
   "execution_count": 3,
   "id": "8412f2e3",
   "metadata": {},
   "outputs": [
    {
     "name": "stdout",
     "output_type": "stream",
     "text": [
      "66.4\n",
      "-22.4\n",
      "976.8\n",
      "0.4954954954954955\n",
      "22.0\n",
      "0.0\n",
      "4.0139044361723122e+59\n"
     ]
    }
   ],
   "source": [
    "#QC2.Arithmetic Operations \n",
    "\n",
    "arith_float1 = 22.0\n",
    "arith_float2 = 44.4\n",
    "print (arith_float1 + arith_float2)\n",
    "print (arith_float1 - arith_float2)\n",
    "print (arith_float1 * arith_float2)\n",
    "print (arith_float1 / arith_float2)\n",
    "print (arith_float1 % arith_float2)\n",
    "print (arith_float1 // arith_float2)\n",
    "print (arith_float1 ** arith_float2)"
   ]
  },
  {
   "cell_type": "code",
   "execution_count": 7,
   "id": "cd5864ac",
   "metadata": {},
   "outputs": [
    {
     "name": "stdout",
     "output_type": "stream",
     "text": [
      "False\n",
      "True\n",
      "False\n",
      "True\n"
     ]
    }
   ],
   "source": [
    "#QC3.Comparison Operators\n",
    "\n",
    "comp_float1 = 76.9\n",
    "comp_float2 = 97.9\n",
    "print (comp_float1 > comp_float2 )\n",
    "\n",
    "print (comp_float1 < comp_float2 )\n",
    "\n",
    "print (comp_float1 >= comp_float2 )\n",
    "\n",
    "print (comp_float1 <= comp_float2 )\n"
   ]
  },
  {
   "cell_type": "code",
   "execution_count": 10,
   "id": "53a004dc",
   "metadata": {},
   "outputs": [
    {
     "name": "stdout",
     "output_type": "stream",
     "text": [
      "False\n",
      "True\n"
     ]
    }
   ],
   "source": [
    " #QC4.Equality Operator\n",
    "\n",
    "Equl_float1 = 86.8\n",
    "Equl_float2 = 68.3\n",
    "print (Equl_float1 == Equl_float2)\n",
    "print (Equl_float1 != Equl_float2)"
   ]
  },
  {
   "cell_type": "code",
   "execution_count": 15,
   "id": "227d006a",
   "metadata": {},
   "outputs": [
    {
     "name": "stdout",
     "output_type": "stream",
     "text": [
      "20.3\n",
      "0.0\n",
      "0.0\n",
      "0.0\n",
      "10.2\n",
      "20.3\n",
      "20.3\n",
      "0.0\n",
      "False\n",
      "True\n"
     ]
    }
   ],
   "source": [
    " #QC5. Logical operators\n",
    "\n",
    "\n",
    "print(10.20 and 20.30)\n",
    "\n",
    "print(0.0 and 20.30) \n",
    "\n",
    "print(20.30 and 0.0)\n",
    "\n",
    "print(0.0 and 0.0)\n",
    "\n",
    "print(10.20 or 20.30)\n",
    "\n",
    "print(0.0 or 20.30)\n",
    "\n",
    "print(20.30 or 0.0)\n",
    "\n",
    "print(0.0 or 0.0)\n",
    "\n",
    "print(not 10.20) \n",
    "\n",
    "print(not 0.0)"
   ]
  },
  {
   "cell_type": "code",
   "execution_count": 17,
   "id": "af90c5fd",
   "metadata": {},
   "outputs": [
    {
     "name": "stdout",
     "output_type": "stream",
     "text": [
      "False\n",
      "True\n"
     ]
    }
   ],
   "source": [
    "# QC6.expression inside print statement\n",
    "\n",
    "a = 10.20\n",
    "\n",
    "b = 10.20\n",
    "\n",
    "print(a is b) \n",
    "\n",
    "print(a is not b)\n"
   ]
  },
  {
   "cell_type": "code",
   "execution_count": 18,
   "id": "159d473a",
   "metadata": {},
   "outputs": [],
   "source": [
    "#QC7 Bitwise operation\n",
    "\n",
    "#Why the Id of float values are different when the same value is\n",
    "#assigned to two different variables\n",
    "\n",
    "\n",
    "# answer:\n",
    "\n",
    "#  value might be same but identifier in which values are stored are different \n",
    "# if in case identifier is same then it will work.\n",
    "\n",
    "#ex: a = 10.5 b=10.5. but id will be same if I assign the variable\n",
    "#having float i.e. a=c then both a and c's Id are same"
   ]
  },
  {
   "cell_type": "code",
   "execution_count": 19,
   "id": "499dbd9e",
   "metadata": {},
   "outputs": [
    {
     "name": "stdout",
     "output_type": "stream",
     "text": [
      "True\n"
     ]
    }
   ],
   "source": [
    "#QC8.Membership operation\n",
    "\n",
    "print ('2.7' in 'Python2.7.8')"
   ]
  },
  {
   "cell_type": "code",
   "execution_count": 20,
   "id": "4c609c09",
   "metadata": {},
   "outputs": [
    {
     "name": "stdout",
     "output_type": "stream",
     "text": [
      "True\n"
     ]
    }
   ],
   "source": [
    "print(10.20 in [10,10.20,10+20j,'Python']) \n"
   ]
  },
  {
   "cell_type": "code",
   "execution_count": 21,
   "id": "cbf8813c",
   "metadata": {},
   "outputs": [
    {
     "name": "stdout",
     "output_type": "stream",
     "text": [
      "True\n"
     ]
    }
   ],
   "source": [
    "\n",
    "print(10.20 in (10, 10.20, 10+20j,'Python'))\n"
   ]
  },
  {
   "cell_type": "code",
   "execution_count": 22,
   "id": "ab8d5f14",
   "metadata": {},
   "outputs": [
    {
     "name": "stdout",
     "output_type": "stream",
     "text": [
      "True\n"
     ]
    }
   ],
   "source": [
    "\n",
    "print(20.30 in {1, 20.30 ,30+40j}) \n"
   ]
  },
  {
   "cell_type": "code",
   "execution_count": 23,
   "id": "716f953a",
   "metadata": {},
   "outputs": [
    {
     "name": "stdout",
     "output_type": "stream",
     "text": [
      "True\n"
     ]
    }
   ],
   "source": [
    "print(2.3 in {1:100, 2.3:200, 30+40j:300})"
   ]
  },
  {
   "cell_type": "code",
   "execution_count": 24,
   "id": "dd3834a4",
   "metadata": {},
   "outputs": [
    {
     "name": "stdout",
     "output_type": "stream",
     "text": [
      "True\n"
     ]
    }
   ],
   "source": [
    "print(10 in  range(20)) "
   ]
  },
  {
   "cell_type": "code",
   "execution_count": null,
   "id": "77f5d348",
   "metadata": {},
   "outputs": [],
   "source": []
  }
 ],
 "metadata": {
  "kernelspec": {
   "display_name": "Python 3",
   "language": "python",
   "name": "python3"
  },
  "language_info": {
   "codemirror_mode": {
    "name": "ipython",
    "version": 3
   },
   "file_extension": ".py",
   "mimetype": "text/x-python",
   "name": "python",
   "nbconvert_exporter": "python",
   "pygments_lexer": "ipython3",
   "version": "3.8.8"
  }
 },
 "nbformat": 4,
 "nbformat_minor": 5
}
