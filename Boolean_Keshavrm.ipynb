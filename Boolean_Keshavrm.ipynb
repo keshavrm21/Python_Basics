{
 "cells": [
  {
   "cell_type": "code",
   "execution_count": 18,
   "id": "620090bb",
   "metadata": {},
   "outputs": [
    {
     "name": "stdout",
     "output_type": "stream",
     "text": [
      "<class 'bool'>\n",
      "140723337221968\n",
      "True\n",
      "True\n",
      "1248298364976\n",
      "1248298366896\n"
     ]
    }
   ],
   "source": [
    "#QC1 Check the type and id \n",
    "\n",
    "bool_identifier = True\n",
    "\n",
    "print (type (bool_identifier))\n",
    "print (id ( bool_identifier))\n",
    "\n",
    "\n",
    "o = 1230\n",
    "t = 6556\n",
    "print (bool(o))\n",
    "print (bool(t))\n",
    "print (id(o))\n",
    "print (id(t))\n",
    "\n"
   ]
  },
  {
   "cell_type": "code",
   "execution_count": 7,
   "id": "69ed09f4",
   "metadata": {},
   "outputs": [
    {
     "name": "stdout",
     "output_type": "stream",
     "text": [
      "140723337221968\n",
      "140723337222000\n"
     ]
    }
   ],
   "source": [
    "#QC2 Check the id\n",
    "\n",
    "bool_identifier1 = True\n",
    "bool_identifier2 = False\n",
    "print (id ( bool_identifier1))\n",
    "print (id ( bool_identifier2))\n",
    "\n"
   ]
  },
  {
   "cell_type": "code",
   "execution_count": 28,
   "id": "1c9f9304",
   "metadata": {},
   "outputs": [
    {
     "name": "stdout",
     "output_type": "stream",
     "text": [
      "1\n",
      "-1\n",
      "0\n",
      "0.0\n",
      "0\n",
      "0\n",
      "0\n"
     ]
    }
   ],
   "source": [
    "#QC3 Arithmetic Operations\n",
    "\n",
    "e = False\n",
    "f = True\n",
    "\n",
    "\n",
    "print (e + f)\n",
    "print (e - f)\n",
    "print (e * f)\n",
    "print (e / f)\n",
    "print (e % f)\n",
    "print (e // f)\n",
    "print (e ** f)\n",
    "\n"
   ]
  },
  {
   "cell_type": "code",
   "execution_count": 31,
   "id": "3bf88b2d",
   "metadata": {},
   "outputs": [
    {
     "name": "stdout",
     "output_type": "stream",
     "text": [
      "False\n",
      "True\n",
      "False\n",
      "True\n"
     ]
    }
   ],
   "source": [
    "#QC4 Comparison Operators\n",
    "e1 = False\n",
    "f2 = True\n",
    "\n",
    "print (e1 > f2)\n",
    "print (e1 < f2)\n",
    "print (e1 >= f2)\n",
    "print (e1 <= f2)"
   ]
  },
  {
   "cell_type": "code",
   "execution_count": 40,
   "id": "f48f02e4",
   "metadata": {},
   "outputs": [
    {
     "name": "stdout",
     "output_type": "stream",
     "text": [
      "False\n",
      "True\n"
     ]
    }
   ],
   "source": [
    "#QC5 Equality Operator\n",
    " \n",
    "is_boolean1 = True\n",
    "is_boolean2 = False\n",
    "print (is_boolean1 is is_boolean2 )\n",
    "print (is_boolean1 is not is_boolean2 )\n",
    "\n"
   ]
  },
  {
   "cell_type": "code",
   "execution_count": 37,
   "id": "d766d855",
   "metadata": {},
   "outputs": [
    {
     "name": "stdout",
     "output_type": "stream",
     "text": [
      "True\n",
      "False\n",
      "False\n",
      "False\n",
      "True\n",
      "True\n",
      "True\n",
      "False\n",
      "False\n",
      "True\n"
     ]
    }
   ],
   "source": [
    "#QC6 Logical operators\n",
    "\n",
    "print(True and True)\n",
    "print(False and True)\n",
    "print(True and False)\n",
    "print(False and False)\n",
    "\n",
    "print(True or True)\n",
    "print(False or True)\n",
    "print(True or False)\n",
    "print(False or False)\n",
    "\n",
    "print(not True)\n",
    "print(not False)\n",
    "\n",
    "\n"
   ]
  },
  {
   "cell_type": "code",
   "execution_count": 54,
   "id": "9786a65d",
   "metadata": {},
   "outputs": [
    {
     "name": "stdout",
     "output_type": "stream",
     "text": [
      "True\n",
      "True\n",
      "True\n",
      "-2\n",
      "4\n",
      "0\n"
     ]
    }
   ],
   "source": [
    "#QC7 Bitwise Operators\n",
    "\n",
    "bit_true  = True\n",
    "bit_False = True\n",
    "\n",
    "print(bit_true & bit_False)\n",
    "\n",
    "bit_true1  = True\n",
    "bit_False = False\n",
    "print(bit_true1 | bit_False)\n",
    "\n",
    "print(bit_true1 ^ bit_False)\n",
    "\n",
    "print(~bit_true1 )\n",
    "\n",
    "\n",
    "bit_true1  = True\n",
    "bit_False2 = 2\n",
    "\n",
    "print(bit_true1 << bit_False2)\n",
    "print(bit_true1 >> bit_False2)\n",
    "\n"
   ]
  },
  {
   "cell_type": "code",
   "execution_count": 55,
   "id": "cc7503ef",
   "metadata": {},
   "outputs": [
    {
     "name": "stdout",
     "output_type": "stream",
     "text": [
      "True\n"
     ]
    }
   ],
   "source": [
    "#QC8 expression inside the print statement\n",
    "\n",
    "a = True\n",
    "\n",
    "b = True\n",
    "\n",
    "print(a is b) "
   ]
  },
  {
   "cell_type": "code",
   "execution_count": 58,
   "id": "12c4cc88",
   "metadata": {},
   "outputs": [
    {
     "name": "stdout",
     "output_type": "stream",
     "text": [
      "False\n",
      "True\n"
     ]
    }
   ],
   "source": [
    "w = False\n",
    "e = False\n",
    "print(w is not e) \n",
    "print(w is e)"
   ]
  },
  {
   "cell_type": "code",
   "execution_count": 70,
   "id": "2726159b",
   "metadata": {},
   "outputs": [
    {
     "name": "stdout",
     "output_type": "stream",
     "text": [
      "True\n",
      "False\n"
     ]
    }
   ],
   "source": [
    "#QC9 Membership operation\n",
    "print(True in [10,10.20,10+20j,'Python', True])\n",
    "print(True not in [10,10.20,10+20j,'Python', True])"
   ]
  },
  {
   "cell_type": "code",
   "execution_count": 69,
   "id": "23b1cd59",
   "metadata": {},
   "outputs": [
    {
     "name": "stdout",
     "output_type": "stream",
     "text": [
      "True\n",
      "False\n"
     ]
    }
   ],
   "source": [
    "print(False in (10,10.20,10+20j,'Python', False))\n",
    "print(False not in (10,10.20,10+20j,'Python', False))"
   ]
  },
  {
   "cell_type": "code",
   "execution_count": 66,
   "id": "d7b15b13",
   "metadata": {},
   "outputs": [
    {
     "name": "stdout",
     "output_type": "stream",
     "text": [
      "True\n",
      "False\n"
     ]
    }
   ],
   "source": [
    "print(True in {1,2,3, True})\n",
    "print(True not in {1,2,3, True})"
   ]
  },
  {
   "cell_type": "code",
   "execution_count": 65,
   "id": "267d32f3",
   "metadata": {},
   "outputs": [
    {
     "name": "stdout",
     "output_type": "stream",
     "text": [
      "True\n",
      "False\n"
     ]
    }
   ],
   "source": [
    "print(True in {True:100, False:200, True:300})\n",
    "print(True not in {True:100, False:200, True:300})\n"
   ]
  },
  {
   "cell_type": "code",
   "execution_count": 64,
   "id": "fc2397a5",
   "metadata": {},
   "outputs": [
    {
     "name": "stdout",
     "output_type": "stream",
     "text": [
      "True\n",
      "False\n"
     ]
    }
   ],
   "source": [
    "print(False in {True:100, False:200, True:300})\n",
    "print(False not in {True:100, False:200, True:300})"
   ]
  },
  {
   "cell_type": "code",
   "execution_count": null,
   "id": "c0ce283b",
   "metadata": {},
   "outputs": [],
   "source": []
  }
 ],
 "metadata": {
  "kernelspec": {
   "display_name": "Python 3",
   "language": "python",
   "name": "python3"
  },
  "language_info": {
   "codemirror_mode": {
    "name": "ipython",
    "version": 3
   },
   "file_extension": ".py",
   "mimetype": "text/x-python",
   "name": "python",
   "nbconvert_exporter": "python",
   "pygments_lexer": "ipython3",
   "version": "3.8.8"
  }
 },
 "nbformat": 4,
 "nbformat_minor": 5
}
