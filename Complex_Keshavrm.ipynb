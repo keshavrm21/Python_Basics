{
 "cells": [
  {
   "cell_type": "code",
   "execution_count": 12,
   "id": "5f1519cb",
   "metadata": {},
   "outputs": [
    {
     "name": "stdout",
     "output_type": "stream",
     "text": [
      "<class 'complex'>\n",
      "3036079224432\n"
     ]
    }
   ],
   "source": [
    "#QC1.Check the type and print the id \n",
    "\n",
    "comp = 40 + 50j\n",
    "\n",
    "print(type(comp))\n",
    "print(id(comp))"
   ]
  },
  {
   "cell_type": "code",
   "execution_count": 31,
   "id": "9095532b",
   "metadata": {},
   "outputs": [
    {
     "name": "stdout",
     "output_type": "stream",
     "text": [
      "(739+5j)\n",
      "(-641-155j)\n",
      "(39810-47830j)\n",
      "(0.057637305699481854-0.1153782383419689j)\n"
     ]
    }
   ],
   "source": [
    "#QC2. Arithmetic Operations\n",
    "\n",
    "compx  = 49 - 75j\n",
    "compx1 = 690 + 80j\n",
    "\n",
    "print (compx + compx1)\n",
    "print (compx - compx1)\n",
    "print (compx * compx1)\n",
    "print (compx / compx1)\n"
   ]
  },
  {
   "cell_type": "code",
   "execution_count": 44,
   "id": "54e5061c",
   "metadata": {},
   "outputs": [
    {
     "name": "stdout",
     "output_type": "stream",
     "text": [
      "False\n",
      "True\n"
     ]
    }
   ],
   "source": [
    "#QC3. Equality Operator\n",
    "\n",
    "equl_compx  = 63778-38347j\n",
    "equl_compx2 = 738 + 89j\n",
    "\n",
    "print (equl_compx==equl_compx2)\n",
    "print (equl_compx!=equl_compx2)\n",
    "print\n"
   ]
  },
  {
   "cell_type": "code",
   "execution_count": 53,
   "id": "9bd4f1f9",
   "metadata": {},
   "outputs": [
    {
     "name": "stdout",
     "output_type": "stream",
     "text": [
      "(20+30j)\n",
      "0j\n",
      "0j\n",
      "0j\n",
      "(10+20j)\n",
      "(20+30j)\n",
      "(20+30j)\n",
      "(20+30j)\n",
      "False\n",
      "False\n"
     ]
    }
   ],
   "source": [
    "\n",
    "#QC4.Logical operators\n",
    "  \n",
    "print(10+20j and 20+30j)\n",
    "\n",
    "print(0+0j and 20+30j) \n",
    "\n",
    "print(20+30j and 0+0j)\n",
    "\n",
    "print(0+0j and 0+0j) \n",
    "\n",
    "print(10+20j or 20+30j) \n",
    "\n",
    "print(0+0j or 20+30j) \n",
    "\n",
    "print(20+30j or 0+0j)\n",
    "\n",
    "print(20+30j or 0+0j)\n",
    "\n",
    "print(not 10+20j) \n",
    "\n",
    "print(not 10+20j) "
   ]
  },
  {
   "cell_type": "code",
   "execution_count": 54,
   "id": "1c7d7031",
   "metadata": {},
   "outputs": [
    {
     "name": "stdout",
     "output_type": "stream",
     "text": [
      "False\n",
      "True\n"
     ]
    }
   ],
   "source": [
    "#QC5. Expression inside #True or False?\n",
    "\n",
    "\n",
    "a = 10 + 20j\n",
    "b = 10 + 20j\n",
    "\n",
    "print(a is b) \n",
    "print(a is not b)"
   ]
  },
  {
   "cell_type": "code",
   "execution_count": 56,
   "id": "d4d36ac3",
   "metadata": {},
   "outputs": [
    {
     "name": "stdout",
     "output_type": "stream",
     "text": [
      "True\n",
      "True\n",
      "True\n",
      "True\n",
      "True\n",
      "True\n",
      "False\n",
      "False\n",
      "False\n",
      "False\n",
      "False\n",
      "False\n"
     ]
    }
   ],
   "source": [
    "#QC6.Membership operation\n",
    "\n",
    "print('2.7' in 'Python2.7.8')\n",
    "\n",
    "print(10+20j in [10,10.20,10+20j,'Python'])\n",
    "\n",
    "print(10+20j in (10,10.20,10+20j,'Python')) \n",
    "\n",
    "print(30+40j in {1,20.30,30+40j}) \n",
    "\n",
    "print(30+40j in {1:100, 2.3:200, 30+40j:300}) \n",
    "\n",
    "print(10 in range(20)) \n",
    "\n",
    "\n",
    "\n",
    "print('2.7' not in 'Python2.7.8')\n",
    "\n",
    "print(10+20j not in [10,10.20,10+20j,'Python'])\n",
    "\n",
    "print(10+20j not in (10,10.20,10+20j,'Python')) \n",
    "\n",
    "print(30+40j not in {1,20.30,30+40j}) \n",
    "\n",
    "print(30+40j not in {1:100, 2.3:200, 30+40j:300}) \n",
    "\n",
    "print(10 not in range(20)) "
   ]
  },
  {
   "cell_type": "code",
   "execution_count": null,
   "id": "09e86d0d",
   "metadata": {},
   "outputs": [],
   "source": []
  }
 ],
 "metadata": {
  "kernelspec": {
   "display_name": "Python 3",
   "language": "python",
   "name": "python3"
  },
  "language_info": {
   "codemirror_mode": {
    "name": "ipython",
    "version": 3
   },
   "file_extension": ".py",
   "mimetype": "text/x-python",
   "name": "python",
   "nbconvert_exporter": "python",
   "pygments_lexer": "ipython3",
   "version": "3.8.8"
  }
 },
 "nbformat": 4,
 "nbformat_minor": 5
}
